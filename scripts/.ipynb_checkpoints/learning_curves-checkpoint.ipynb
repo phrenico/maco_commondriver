{
 "cells": [
  {
   "cell_type": "code",
   "execution_count": 1,
   "id": "9b4eba40",
   "metadata": {},
   "outputs": [],
   "source": [
    "import numpy as np"
   ]
  },
  {
   "cell_type": "code",
   "execution_count": 2,
   "id": "a5396549",
   "metadata": {},
   "outputs": [],
   "source": [
    "learnings = np.load('./resdata/learning_curves.npy')"
   ]
  },
  {
   "cell_type": "code",
   "execution_count": 3,
   "id": "a2fad7bb",
   "metadata": {},
   "outputs": [
    {
     "data": {
      "text/plain": [
       "(4000, 50)"
      ]
     },
     "execution_count": 3,
     "metadata": {},
     "output_type": "execute_result"
    }
   ],
   "source": [
    "learnings.shape"
   ]
  },
  {
   "cell_type": "code",
   "execution_count": 4,
   "id": "dc53a06c",
   "metadata": {},
   "outputs": [],
   "source": [
    "from sklearn.cluster import KMeans"
   ]
  },
  {
   "cell_type": "code",
   "execution_count": 5,
   "id": "e7fbcf68",
   "metadata": {},
   "outputs": [
    {
     "name": "stdout",
     "output_type": "stream",
     "text": [
      "[0 1 1 1 1 0 0 0 0 1 0 1 1 0 1 1 1 1 0 1 0 1 1 0 0 1 1 0 1 2 0 1 0 0 1 0 1\n",
      " 0 0 0 1 1 1 0 0 1 0 0 0 1]\n"
     ]
    }
   ],
   "source": [
    "km = KMeans(n_clusters=4)\n",
    "clusts = km.fit_predict(learnings[-1:, :].T)\n",
    "\n",
    "print(clusts)"
   ]
  },
  {
   "cell_type": "code",
   "execution_count": null,
   "id": "fcf48811",
   "metadata": {},
   "outputs": [],
   "source": []
  }
 ],
 "metadata": {
  "kernelspec": {
   "display_name": "Python 3 (ipykernel)",
   "language": "python",
   "name": "python3"
  },
  "language_info": {
   "codemirror_mode": {
    "name": "ipython",
    "version": 3
   },
   "file_extension": ".py",
   "mimetype": "text/x-python",
   "name": "python",
   "nbconvert_exporter": "python",
   "pygments_lexer": "ipython3",
   "version": "3.9.4"
  }
 },
 "nbformat": 4,
 "nbformat_minor": 5
}
